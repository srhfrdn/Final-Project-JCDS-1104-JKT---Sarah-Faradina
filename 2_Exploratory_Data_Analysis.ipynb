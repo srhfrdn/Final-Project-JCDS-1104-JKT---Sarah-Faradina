{
 "cells": [
  {
   "cell_type": "markdown",
   "metadata": {},
   "source": [
    "# __AIRLINE PASSENGER SATISFACTION__"
   ]
  },
  {
   "cell_type": "markdown",
   "metadata": {},
   "source": [
    "## __Exploratory Data Analysis__"
   ]
  },
  {
   "cell_type": "code",
   "execution_count": 1,
   "metadata": {},
   "outputs": [],
   "source": [
    "import pandas as pd\n",
    "pd.options.display.max_columns = None\n",
    "import numpy as np\n",
    "import seaborn as sns\n",
    "import matplotlib.pyplot as plt\n",
    "from scipy import stats"
   ]
  },
  {
   "cell_type": "code",
   "execution_count": 2,
   "metadata": {},
   "outputs": [
    {
     "data": {
      "text/html": [
       "<div>\n",
       "<style scoped>\n",
       "    .dataframe tbody tr th:only-of-type {\n",
       "        vertical-align: middle;\n",
       "    }\n",
       "\n",
       "    .dataframe tbody tr th {\n",
       "        vertical-align: top;\n",
       "    }\n",
       "\n",
       "    .dataframe thead th {\n",
       "        text-align: right;\n",
       "    }\n",
       "</style>\n",
       "<table border=\"1\" class=\"dataframe\">\n",
       "  <thead>\n",
       "    <tr style=\"text-align: right;\">\n",
       "      <th></th>\n",
       "      <th>Satisfaction</th>\n",
       "      <th>Gender</th>\n",
       "      <th>Customer Type</th>\n",
       "      <th>Age</th>\n",
       "      <th>Type of Travel</th>\n",
       "      <th>Class</th>\n",
       "      <th>Seat comfort</th>\n",
       "      <th>Departure/Arrival time convenient</th>\n",
       "      <th>Food and drink</th>\n",
       "      <th>Gate location</th>\n",
       "      <th>Inflight wifi service</th>\n",
       "      <th>Inflight entertainment</th>\n",
       "      <th>Online support</th>\n",
       "      <th>Ease of Online booking</th>\n",
       "      <th>On-board service</th>\n",
       "      <th>Leg room service</th>\n",
       "      <th>Baggage handling</th>\n",
       "      <th>Checkin service</th>\n",
       "      <th>Cleanliness</th>\n",
       "      <th>Online boarding</th>\n",
       "      <th>Departure Delay in Minutes</th>\n",
       "      <th>Arrival Delay in Minutes</th>\n",
       "    </tr>\n",
       "  </thead>\n",
       "  <tbody>\n",
       "    <tr>\n",
       "      <th>129875</th>\n",
       "      <td>satisfied</td>\n",
       "      <td>Female</td>\n",
       "      <td>disloyal Customer</td>\n",
       "      <td>29</td>\n",
       "      <td>Personal Travel</td>\n",
       "      <td>Eco</td>\n",
       "      <td>5</td>\n",
       "      <td>5</td>\n",
       "      <td>5</td>\n",
       "      <td>3</td>\n",
       "      <td>2</td>\n",
       "      <td>5</td>\n",
       "      <td>2</td>\n",
       "      <td>2</td>\n",
       "      <td>3</td>\n",
       "      <td>3</td>\n",
       "      <td>4</td>\n",
       "      <td>4</td>\n",
       "      <td>4</td>\n",
       "      <td>2</td>\n",
       "      <td>0</td>\n",
       "      <td>0.0</td>\n",
       "    </tr>\n",
       "    <tr>\n",
       "      <th>129876</th>\n",
       "      <td>neutral or dissatisfied</td>\n",
       "      <td>Male</td>\n",
       "      <td>disloyal Customer</td>\n",
       "      <td>63</td>\n",
       "      <td>Personal Travel</td>\n",
       "      <td>Business</td>\n",
       "      <td>2</td>\n",
       "      <td>3</td>\n",
       "      <td>2</td>\n",
       "      <td>4</td>\n",
       "      <td>2</td>\n",
       "      <td>1</td>\n",
       "      <td>1</td>\n",
       "      <td>3</td>\n",
       "      <td>2</td>\n",
       "      <td>3</td>\n",
       "      <td>3</td>\n",
       "      <td>1</td>\n",
       "      <td>2</td>\n",
       "      <td>1</td>\n",
       "      <td>174</td>\n",
       "      <td>172.0</td>\n",
       "    </tr>\n",
       "    <tr>\n",
       "      <th>129877</th>\n",
       "      <td>neutral or dissatisfied</td>\n",
       "      <td>Male</td>\n",
       "      <td>disloyal Customer</td>\n",
       "      <td>69</td>\n",
       "      <td>Personal Travel</td>\n",
       "      <td>Eco</td>\n",
       "      <td>3</td>\n",
       "      <td>0</td>\n",
       "      <td>3</td>\n",
       "      <td>3</td>\n",
       "      <td>3</td>\n",
       "      <td>2</td>\n",
       "      <td>2</td>\n",
       "      <td>4</td>\n",
       "      <td>4</td>\n",
       "      <td>3</td>\n",
       "      <td>4</td>\n",
       "      <td>2</td>\n",
       "      <td>3</td>\n",
       "      <td>2</td>\n",
       "      <td>155</td>\n",
       "      <td>163.0</td>\n",
       "    </tr>\n",
       "    <tr>\n",
       "      <th>129878</th>\n",
       "      <td>neutral or dissatisfied</td>\n",
       "      <td>Male</td>\n",
       "      <td>disloyal Customer</td>\n",
       "      <td>66</td>\n",
       "      <td>Personal Travel</td>\n",
       "      <td>Eco</td>\n",
       "      <td>3</td>\n",
       "      <td>2</td>\n",
       "      <td>3</td>\n",
       "      <td>2</td>\n",
       "      <td>3</td>\n",
       "      <td>2</td>\n",
       "      <td>2</td>\n",
       "      <td>3</td>\n",
       "      <td>3</td>\n",
       "      <td>2</td>\n",
       "      <td>3</td>\n",
       "      <td>2</td>\n",
       "      <td>1</td>\n",
       "      <td>2</td>\n",
       "      <td>193</td>\n",
       "      <td>205.0</td>\n",
       "    </tr>\n",
       "    <tr>\n",
       "      <th>129879</th>\n",
       "      <td>neutral or dissatisfied</td>\n",
       "      <td>Female</td>\n",
       "      <td>disloyal Customer</td>\n",
       "      <td>38</td>\n",
       "      <td>Personal Travel</td>\n",
       "      <td>Eco</td>\n",
       "      <td>3</td>\n",
       "      <td>4</td>\n",
       "      <td>3</td>\n",
       "      <td>3</td>\n",
       "      <td>3</td>\n",
       "      <td>3</td>\n",
       "      <td>3</td>\n",
       "      <td>4</td>\n",
       "      <td>5</td>\n",
       "      <td>5</td>\n",
       "      <td>5</td>\n",
       "      <td>3</td>\n",
       "      <td>3</td>\n",
       "      <td>3</td>\n",
       "      <td>185</td>\n",
       "      <td>186.0</td>\n",
       "    </tr>\n",
       "  </tbody>\n",
       "</table>\n",
       "</div>"
      ],
      "text/plain": [
       "                   Satisfaction  Gender      Customer Type  Age  \\\n",
       "129875                satisfied  Female  disloyal Customer   29   \n",
       "129876  neutral or dissatisfied    Male  disloyal Customer   63   \n",
       "129877  neutral or dissatisfied    Male  disloyal Customer   69   \n",
       "129878  neutral or dissatisfied    Male  disloyal Customer   66   \n",
       "129879  neutral or dissatisfied  Female  disloyal Customer   38   \n",
       "\n",
       "         Type of Travel     Class  Seat comfort  \\\n",
       "129875  Personal Travel       Eco             5   \n",
       "129876  Personal Travel  Business             2   \n",
       "129877  Personal Travel       Eco             3   \n",
       "129878  Personal Travel       Eco             3   \n",
       "129879  Personal Travel       Eco             3   \n",
       "\n",
       "        Departure/Arrival time convenient  Food and drink  Gate location  \\\n",
       "129875                                  5               5              3   \n",
       "129876                                  3               2              4   \n",
       "129877                                  0               3              3   \n",
       "129878                                  2               3              2   \n",
       "129879                                  4               3              3   \n",
       "\n",
       "        Inflight wifi service  Inflight entertainment  Online support  \\\n",
       "129875                      2                       5               2   \n",
       "129876                      2                       1               1   \n",
       "129877                      3                       2               2   \n",
       "129878                      3                       2               2   \n",
       "129879                      3                       3               3   \n",
       "\n",
       "        Ease of Online booking  On-board service  Leg room service  \\\n",
       "129875                       2                 3                 3   \n",
       "129876                       3                 2                 3   \n",
       "129877                       4                 4                 3   \n",
       "129878                       3                 3                 2   \n",
       "129879                       4                 5                 5   \n",
       "\n",
       "        Baggage handling  Checkin service  Cleanliness  Online boarding  \\\n",
       "129875                 4                4            4                2   \n",
       "129876                 3                1            2                1   \n",
       "129877                 4                2            3                2   \n",
       "129878                 3                2            1                2   \n",
       "129879                 5                3            3                3   \n",
       "\n",
       "        Departure Delay in Minutes  Arrival Delay in Minutes  \n",
       "129875                           0                       0.0  \n",
       "129876                         174                     172.0  \n",
       "129877                         155                     163.0  \n",
       "129878                         193                     205.0  \n",
       "129879                         185                     186.0  "
      ]
     },
     "execution_count": 2,
     "metadata": {},
     "output_type": "execute_result"
    }
   ],
   "source": [
    "data = pd.read_csv('satis_clean.csv')\n",
    "data.tail()"
   ]
  },
  {
   "cell_type": "markdown",
   "metadata": {},
   "source": [
    "> __MISSING VALUE__"
   ]
  },
  {
   "cell_type": "markdown",
   "metadata": {},
   "source": [
    "Let's look at Arrival Delay in Minutes column because there are several missing values."
   ]
  },
  {
   "cell_type": "markdown",
   "metadata": {},
   "source": [
    "__Before__"
   ]
  },
  {
   "cell_type": "code",
   "execution_count": 3,
   "metadata": {},
   "outputs": [
    {
     "data": {
      "text/plain": [
       "393"
      ]
     },
     "execution_count": 3,
     "metadata": {},
     "output_type": "execute_result"
    }
   ],
   "source": [
    "data['Arrival Delay in Minutes'].isna().sum()"
   ]
  },
  {
   "cell_type": "code",
   "execution_count": 4,
   "metadata": {},
   "outputs": [
    {
     "data": {
      "text/plain": [
       "count    129487.000000\n",
       "mean         15.091129\n",
       "std          38.465650\n",
       "min           0.000000\n",
       "25%           0.000000\n",
       "50%           0.000000\n",
       "75%          13.000000\n",
       "max        1584.000000\n",
       "Name: Arrival Delay in Minutes, dtype: float64"
      ]
     },
     "execution_count": 4,
     "metadata": {},
     "output_type": "execute_result"
    }
   ],
   "source": [
    "data['Arrival Delay in Minutes'].describe()"
   ]
  },
  {
   "cell_type": "markdown",
   "metadata": {},
   "source": [
    "But i will fillna with median in for visualization, then impute with pipeline in Modelling Notebook later."
   ]
  },
  {
   "cell_type": "code",
   "execution_count": 5,
   "metadata": {},
   "outputs": [],
   "source": [
    "data['Arrival Delay in Minutes'].fillna(data['Arrival Delay in Minutes'].median(), inplace=True)"
   ]
  },
  {
   "cell_type": "markdown",
   "metadata": {},
   "source": [
    "__After__"
   ]
  },
  {
   "cell_type": "code",
   "execution_count": 6,
   "metadata": {},
   "outputs": [
    {
     "data": {
      "text/plain": [
       "count    129880.000000\n",
       "mean         15.045465\n",
       "std          38.416353\n",
       "min           0.000000\n",
       "25%           0.000000\n",
       "50%           0.000000\n",
       "75%          13.000000\n",
       "max        1584.000000\n",
       "Name: Arrival Delay in Minutes, dtype: float64"
      ]
     },
     "execution_count": 6,
     "metadata": {},
     "output_type": "execute_result"
    }
   ],
   "source": [
    "data['Arrival Delay in Minutes'].describe()"
   ]
  },
  {
   "cell_type": "code",
   "execution_count": 7,
   "metadata": {},
   "outputs": [
    {
     "data": {
      "text/plain": [
       "0"
      ]
     },
     "execution_count": 7,
     "metadata": {},
     "output_type": "execute_result"
    }
   ],
   "source": [
    "data['Arrival Delay in Minutes'].isna().sum()"
   ]
  },
  {
   "cell_type": "markdown",
   "metadata": {},
   "source": [
    "#### __Descriptive Analysis__"
   ]
  },
  {
   "cell_type": "code",
   "execution_count": 8,
   "metadata": {},
   "outputs": [
    {
     "name": "stdout",
     "output_type": "stream",
     "text": [
      "<class 'pandas.core.frame.DataFrame'>\n",
      "RangeIndex: 129880 entries, 0 to 129879\n",
      "Data columns (total 22 columns):\n",
      " #   Column                             Non-Null Count   Dtype  \n",
      "---  ------                             --------------   -----  \n",
      " 0   Satisfaction                       129880 non-null  object \n",
      " 1   Gender                             129880 non-null  object \n",
      " 2   Customer Type                      129880 non-null  object \n",
      " 3   Age                                129880 non-null  int64  \n",
      " 4   Type of Travel                     129880 non-null  object \n",
      " 5   Class                              129880 non-null  object \n",
      " 6   Seat comfort                       129880 non-null  int64  \n",
      " 7   Departure/Arrival time convenient  129880 non-null  int64  \n",
      " 8   Food and drink                     129880 non-null  int64  \n",
      " 9   Gate location                      129880 non-null  int64  \n",
      " 10  Inflight wifi service              129880 non-null  int64  \n",
      " 11  Inflight entertainment             129880 non-null  int64  \n",
      " 12  Online support                     129880 non-null  int64  \n",
      " 13  Ease of Online booking             129880 non-null  int64  \n",
      " 14  On-board service                   129880 non-null  int64  \n",
      " 15  Leg room service                   129880 non-null  int64  \n",
      " 16  Baggage handling                   129880 non-null  int64  \n",
      " 17  Checkin service                    129880 non-null  int64  \n",
      " 18  Cleanliness                        129880 non-null  int64  \n",
      " 19  Online boarding                    129880 non-null  int64  \n",
      " 20  Departure Delay in Minutes         129880 non-null  int64  \n",
      " 21  Arrival Delay in Minutes           129880 non-null  float64\n",
      "dtypes: float64(1), int64(16), object(5)\n",
      "memory usage: 21.8+ MB\n"
     ]
    }
   ],
   "source": [
    "data.info()"
   ]
  },
  {
   "cell_type": "code",
   "execution_count": 9,
   "metadata": {},
   "outputs": [
    {
     "data": {
      "text/html": [
       "<div>\n",
       "<style scoped>\n",
       "    .dataframe tbody tr th:only-of-type {\n",
       "        vertical-align: middle;\n",
       "    }\n",
       "\n",
       "    .dataframe tbody tr th {\n",
       "        vertical-align: top;\n",
       "    }\n",
       "\n",
       "    .dataframe thead th {\n",
       "        text-align: right;\n",
       "    }\n",
       "</style>\n",
       "<table border=\"1\" class=\"dataframe\">\n",
       "  <thead>\n",
       "    <tr style=\"text-align: right;\">\n",
       "      <th></th>\n",
       "      <th>Age</th>\n",
       "      <th>Seat comfort</th>\n",
       "      <th>Departure/Arrival time convenient</th>\n",
       "      <th>Food and drink</th>\n",
       "      <th>Gate location</th>\n",
       "      <th>Inflight wifi service</th>\n",
       "      <th>Inflight entertainment</th>\n",
       "      <th>Online support</th>\n",
       "      <th>Ease of Online booking</th>\n",
       "      <th>On-board service</th>\n",
       "      <th>Leg room service</th>\n",
       "      <th>Baggage handling</th>\n",
       "      <th>Checkin service</th>\n",
       "      <th>Cleanliness</th>\n",
       "      <th>Online boarding</th>\n",
       "      <th>Departure Delay in Minutes</th>\n",
       "      <th>Arrival Delay in Minutes</th>\n",
       "    </tr>\n",
       "  </thead>\n",
       "  <tbody>\n",
       "    <tr>\n",
       "      <th>count</th>\n",
       "      <td>129880.000000</td>\n",
       "      <td>129880.000000</td>\n",
       "      <td>129880.000000</td>\n",
       "      <td>129880.000000</td>\n",
       "      <td>129880.000000</td>\n",
       "      <td>129880.000000</td>\n",
       "      <td>129880.000000</td>\n",
       "      <td>129880.000000</td>\n",
       "      <td>129880.000000</td>\n",
       "      <td>129880.000000</td>\n",
       "      <td>129880.000000</td>\n",
       "      <td>129880.000000</td>\n",
       "      <td>129880.000000</td>\n",
       "      <td>129880.000000</td>\n",
       "      <td>129880.000000</td>\n",
       "      <td>129880.000000</td>\n",
       "      <td>129880.000000</td>\n",
       "    </tr>\n",
       "    <tr>\n",
       "      <th>mean</th>\n",
       "      <td>39.427957</td>\n",
       "      <td>2.838597</td>\n",
       "      <td>2.990645</td>\n",
       "      <td>2.851994</td>\n",
       "      <td>2.990422</td>\n",
       "      <td>3.249130</td>\n",
       "      <td>3.383477</td>\n",
       "      <td>3.519703</td>\n",
       "      <td>3.472105</td>\n",
       "      <td>3.465075</td>\n",
       "      <td>3.485902</td>\n",
       "      <td>3.695673</td>\n",
       "      <td>3.340807</td>\n",
       "      <td>3.705759</td>\n",
       "      <td>3.352587</td>\n",
       "      <td>14.713713</td>\n",
       "      <td>15.045465</td>\n",
       "    </tr>\n",
       "    <tr>\n",
       "      <th>std</th>\n",
       "      <td>15.119360</td>\n",
       "      <td>1.392983</td>\n",
       "      <td>1.527224</td>\n",
       "      <td>1.443729</td>\n",
       "      <td>1.305970</td>\n",
       "      <td>1.318818</td>\n",
       "      <td>1.346059</td>\n",
       "      <td>1.306511</td>\n",
       "      <td>1.305560</td>\n",
       "      <td>1.270836</td>\n",
       "      <td>1.292226</td>\n",
       "      <td>1.156483</td>\n",
       "      <td>1.260582</td>\n",
       "      <td>1.151774</td>\n",
       "      <td>1.298715</td>\n",
       "      <td>38.071126</td>\n",
       "      <td>38.416353</td>\n",
       "    </tr>\n",
       "    <tr>\n",
       "      <th>min</th>\n",
       "      <td>7.000000</td>\n",
       "      <td>0.000000</td>\n",
       "      <td>0.000000</td>\n",
       "      <td>0.000000</td>\n",
       "      <td>0.000000</td>\n",
       "      <td>0.000000</td>\n",
       "      <td>0.000000</td>\n",
       "      <td>0.000000</td>\n",
       "      <td>0.000000</td>\n",
       "      <td>0.000000</td>\n",
       "      <td>0.000000</td>\n",
       "      <td>1.000000</td>\n",
       "      <td>0.000000</td>\n",
       "      <td>0.000000</td>\n",
       "      <td>0.000000</td>\n",
       "      <td>0.000000</td>\n",
       "      <td>0.000000</td>\n",
       "    </tr>\n",
       "    <tr>\n",
       "      <th>25%</th>\n",
       "      <td>27.000000</td>\n",
       "      <td>2.000000</td>\n",
       "      <td>2.000000</td>\n",
       "      <td>2.000000</td>\n",
       "      <td>2.000000</td>\n",
       "      <td>2.000000</td>\n",
       "      <td>2.000000</td>\n",
       "      <td>3.000000</td>\n",
       "      <td>2.000000</td>\n",
       "      <td>3.000000</td>\n",
       "      <td>2.000000</td>\n",
       "      <td>3.000000</td>\n",
       "      <td>3.000000</td>\n",
       "      <td>3.000000</td>\n",
       "      <td>2.000000</td>\n",
       "      <td>0.000000</td>\n",
       "      <td>0.000000</td>\n",
       "    </tr>\n",
       "    <tr>\n",
       "      <th>50%</th>\n",
       "      <td>40.000000</td>\n",
       "      <td>3.000000</td>\n",
       "      <td>3.000000</td>\n",
       "      <td>3.000000</td>\n",
       "      <td>3.000000</td>\n",
       "      <td>3.000000</td>\n",
       "      <td>4.000000</td>\n",
       "      <td>4.000000</td>\n",
       "      <td>4.000000</td>\n",
       "      <td>4.000000</td>\n",
       "      <td>4.000000</td>\n",
       "      <td>4.000000</td>\n",
       "      <td>3.000000</td>\n",
       "      <td>4.000000</td>\n",
       "      <td>4.000000</td>\n",
       "      <td>0.000000</td>\n",
       "      <td>0.000000</td>\n",
       "    </tr>\n",
       "    <tr>\n",
       "      <th>75%</th>\n",
       "      <td>51.000000</td>\n",
       "      <td>4.000000</td>\n",
       "      <td>4.000000</td>\n",
       "      <td>4.000000</td>\n",
       "      <td>4.000000</td>\n",
       "      <td>4.000000</td>\n",
       "      <td>4.000000</td>\n",
       "      <td>5.000000</td>\n",
       "      <td>5.000000</td>\n",
       "      <td>4.000000</td>\n",
       "      <td>5.000000</td>\n",
       "      <td>5.000000</td>\n",
       "      <td>4.000000</td>\n",
       "      <td>5.000000</td>\n",
       "      <td>4.000000</td>\n",
       "      <td>12.000000</td>\n",
       "      <td>13.000000</td>\n",
       "    </tr>\n",
       "    <tr>\n",
       "      <th>max</th>\n",
       "      <td>85.000000</td>\n",
       "      <td>5.000000</td>\n",
       "      <td>5.000000</td>\n",
       "      <td>5.000000</td>\n",
       "      <td>5.000000</td>\n",
       "      <td>5.000000</td>\n",
       "      <td>5.000000</td>\n",
       "      <td>5.000000</td>\n",
       "      <td>5.000000</td>\n",
       "      <td>5.000000</td>\n",
       "      <td>5.000000</td>\n",
       "      <td>5.000000</td>\n",
       "      <td>5.000000</td>\n",
       "      <td>5.000000</td>\n",
       "      <td>5.000000</td>\n",
       "      <td>1592.000000</td>\n",
       "      <td>1584.000000</td>\n",
       "    </tr>\n",
       "  </tbody>\n",
       "</table>\n",
       "</div>"
      ],
      "text/plain": [
       "                 Age   Seat comfort  Departure/Arrival time convenient  \\\n",
       "count  129880.000000  129880.000000                      129880.000000   \n",
       "mean       39.427957       2.838597                           2.990645   \n",
       "std        15.119360       1.392983                           1.527224   \n",
       "min         7.000000       0.000000                           0.000000   \n",
       "25%        27.000000       2.000000                           2.000000   \n",
       "50%        40.000000       3.000000                           3.000000   \n",
       "75%        51.000000       4.000000                           4.000000   \n",
       "max        85.000000       5.000000                           5.000000   \n",
       "\n",
       "       Food and drink  Gate location  Inflight wifi service  \\\n",
       "count   129880.000000  129880.000000          129880.000000   \n",
       "mean         2.851994       2.990422               3.249130   \n",
       "std          1.443729       1.305970               1.318818   \n",
       "min          0.000000       0.000000               0.000000   \n",
       "25%          2.000000       2.000000               2.000000   \n",
       "50%          3.000000       3.000000               3.000000   \n",
       "75%          4.000000       4.000000               4.000000   \n",
       "max          5.000000       5.000000               5.000000   \n",
       "\n",
       "       Inflight entertainment  Online support  Ease of Online booking  \\\n",
       "count           129880.000000   129880.000000           129880.000000   \n",
       "mean                 3.383477        3.519703                3.472105   \n",
       "std                  1.346059        1.306511                1.305560   \n",
       "min                  0.000000        0.000000                0.000000   \n",
       "25%                  2.000000        3.000000                2.000000   \n",
       "50%                  4.000000        4.000000                4.000000   \n",
       "75%                  4.000000        5.000000                5.000000   \n",
       "max                  5.000000        5.000000                5.000000   \n",
       "\n",
       "       On-board service  Leg room service  Baggage handling  Checkin service  \\\n",
       "count     129880.000000     129880.000000     129880.000000    129880.000000   \n",
       "mean           3.465075          3.485902          3.695673         3.340807   \n",
       "std            1.270836          1.292226          1.156483         1.260582   \n",
       "min            0.000000          0.000000          1.000000         0.000000   \n",
       "25%            3.000000          2.000000          3.000000         3.000000   \n",
       "50%            4.000000          4.000000          4.000000         3.000000   \n",
       "75%            4.000000          5.000000          5.000000         4.000000   \n",
       "max            5.000000          5.000000          5.000000         5.000000   \n",
       "\n",
       "         Cleanliness  Online boarding  Departure Delay in Minutes  \\\n",
       "count  129880.000000    129880.000000               129880.000000   \n",
       "mean        3.705759         3.352587                   14.713713   \n",
       "std         1.151774         1.298715                   38.071126   \n",
       "min         0.000000         0.000000                    0.000000   \n",
       "25%         3.000000         2.000000                    0.000000   \n",
       "50%         4.000000         4.000000                    0.000000   \n",
       "75%         5.000000         4.000000                   12.000000   \n",
       "max         5.000000         5.000000                 1592.000000   \n",
       "\n",
       "       Arrival Delay in Minutes  \n",
       "count             129880.000000  \n",
       "mean                  15.045465  \n",
       "std                   38.416353  \n",
       "min                    0.000000  \n",
       "25%                    0.000000  \n",
       "50%                    0.000000  \n",
       "75%                   13.000000  \n",
       "max                 1584.000000  "
      ]
     },
     "execution_count": 9,
     "metadata": {},
     "output_type": "execute_result"
    }
   ],
   "source": [
    "data.describe()"
   ]
  },
  {
   "cell_type": "code",
   "execution_count": 10,
   "metadata": {},
   "outputs": [
    {
     "data": {
      "text/html": [
       "<div>\n",
       "<style scoped>\n",
       "    .dataframe tbody tr th:only-of-type {\n",
       "        vertical-align: middle;\n",
       "    }\n",
       "\n",
       "    .dataframe tbody tr th {\n",
       "        vertical-align: top;\n",
       "    }\n",
       "\n",
       "    .dataframe thead th {\n",
       "        text-align: right;\n",
       "    }\n",
       "</style>\n",
       "<table border=\"1\" class=\"dataframe\">\n",
       "  <thead>\n",
       "    <tr style=\"text-align: right;\">\n",
       "      <th></th>\n",
       "      <th>Satisfaction</th>\n",
       "      <th>Gender</th>\n",
       "      <th>Customer Type</th>\n",
       "      <th>Type of Travel</th>\n",
       "      <th>Class</th>\n",
       "    </tr>\n",
       "  </thead>\n",
       "  <tbody>\n",
       "    <tr>\n",
       "      <th>count</th>\n",
       "      <td>129880</td>\n",
       "      <td>129880</td>\n",
       "      <td>129880</td>\n",
       "      <td>129880</td>\n",
       "      <td>129880</td>\n",
       "    </tr>\n",
       "    <tr>\n",
       "      <th>unique</th>\n",
       "      <td>2</td>\n",
       "      <td>2</td>\n",
       "      <td>2</td>\n",
       "      <td>2</td>\n",
       "      <td>3</td>\n",
       "    </tr>\n",
       "    <tr>\n",
       "      <th>top</th>\n",
       "      <td>satisfied</td>\n",
       "      <td>Female</td>\n",
       "      <td>Loyal Customer</td>\n",
       "      <td>Business travel</td>\n",
       "      <td>Business</td>\n",
       "    </tr>\n",
       "    <tr>\n",
       "      <th>freq</th>\n",
       "      <td>71087</td>\n",
       "      <td>65899</td>\n",
       "      <td>106100</td>\n",
       "      <td>89693</td>\n",
       "      <td>62160</td>\n",
       "    </tr>\n",
       "  </tbody>\n",
       "</table>\n",
       "</div>"
      ],
      "text/plain": [
       "       Satisfaction  Gender   Customer Type   Type of Travel     Class\n",
       "count        129880  129880          129880           129880    129880\n",
       "unique            2       2               2                2         3\n",
       "top       satisfied  Female  Loyal Customer  Business travel  Business\n",
       "freq          71087   65899          106100            89693     62160"
      ]
     },
     "execution_count": 10,
     "metadata": {},
     "output_type": "execute_result"
    }
   ],
   "source": [
    "data.describe(include = 'O')"
   ]
  },
  {
   "cell_type": "markdown",
   "metadata": {},
   "source": [
    "This dataset contain 22columns with 129880 rows and non null data.\n",
    "<br> From 17 columns that numerical, there are 14 columns that ordinal value (response of satisfaction level surveys).\n",
    "<br> Then, 5 columns are categorical value with 2 - 3 uniques."
   ]
  },
  {
   "cell_type": "markdown",
   "metadata": {},
   "source": [
    "#### __Data Visualization Schema__"
   ]
  },
  {
   "cell_type": "markdown",
   "metadata": {},
   "source": [
    "The dataset we currently have contains 22 columns, i will divide into 4 categories in visualization based on basic knowledge:\n",
    "1. Passengers satisfaction : level satisfaction of airline passengers\n",
    "<br>Satisfaction\n",
    "2. Passenger information : all information about passenger\n",
    "<br>Gender, Age, Customer type, Type of Travel, Class, Departure Delay in Minutes, Arrival Delay in Minutes\n",
    "3. Airline service Satisfaction : service often involves assistance from people\n",
    "- Before flight: Departure/Arrival time convenient, online support, Ease of Online booking, Baggage handling, Checkin service, Online boarding \n",
    "- In flight: food and drink, On-board service, cleanliness\n",
    "4. Airline Facilities Satisfaction:  Facilities are often things\n",
    "<br>seat comfort, gate location, inflight entertainment, inflight wifi service, and Leg room service."
   ]
  },
  {
   "cell_type": "markdown",
   "metadata": {},
   "source": [
    "> #### __Passenger Satisfaction__"
   ]
  },
  {
   "cell_type": "code",
   "execution_count": 11,
   "metadata": {},
   "outputs": [
    {
     "data": {
      "image/png": "[encoded data removed]",
      "text/plain": [
       "<Figure size 432x432 with 1 Axes>"
      ]
     },
     "metadata": {},
     "output_type": "display_data"
    }
   ],
   "source": [
    "values = list(data['Satisfaction'].value_counts().values)\n",
    "labels = list(data['Satisfaction'].value_counts().index)\n",
    "colors = ['darkgrey', 'teal']\n",
    "explode = [0, 0.04]\n",
    "\n",
    "plt.figure(figsize=(6,6))\n",
    "plt.pie(values, labels=labels, explode = explode,\n",
    "        startangle=90, autopct=lambda p:f'{p:.2f}%', colors = colors)\n",
    "plt.title('Satisfaction Percentage', fontsize = 15)\n",
    "plt.tight_layout()\n",
    "\n",
    "# plt.savefig('0_satis.png')\n",
    "# plt.savefig('0_satis_t.png', transparent = True)\n",
    "plt.show()"
   ]
  },
  {
   "cell_type": "markdown",
   "metadata": {},
   "source": [
    "Target data is balanced enough with satisfied passenger (54,73%) and neutral/dissatisfied (45,27%). \n",
    "<br> I dont need to resampling later."
   ]
  },
  {
   "cell_type": "markdown",
   "metadata": {},
   "source": [
    "> #### __Passenger information__"
   ]
  },
  {
   "cell_type": "code",
   "execution_count": 12,
   "metadata": {},
   "outputs": [
    {
     "data": {
      "image/png": "[encoded data removed]",
      "text/plain": [
       "<Figure size 576x432 with 1 Axes>"
      ]
     },
     "metadata": {
      "needs_background": "light"
     },
     "output_type": "display_data"
    }
   ],
   "source": [
    "plt.figure(figsize=(8,6))\n",
    "sns.countplot(x = 'Gender', hue = 'Satisfaction', data = data, palette = 'crest')\n",
    "plt.title('Gender Count Distribution', fontsize = 15)\n",
    "plt.ylim(0,50000)\n",
    "\n",
    "# plt.savefig('1_gender.png')\n",
    "# plt.savefig('1_gender_t.png', transparent = True)\n",
    "plt.show()"
   ]
  },
  {
   "cell_type": "markdown",
   "metadata": {},
   "source": [
    "From the visualization above, it can be seen that the proportion of female who are satisfied is higher than that of male.\n",
    "<br> Meanwhile, the proportion of male who felt neutral / dissatisfied was higher than that of female."
   ]
  },
  {
   "cell_type": "code",
   "execution_count": 13,
   "metadata": {},
   "outputs": [
    {
     "data": {
      "text/plain": [
       "<Figure size 1440x360 with 0 Axes>"
      ]
     },
     "metadata": {},
     "output_type": "display_data"
    },
    {
     "data": {
      "image/png": "[encoded data removed]",
      "text/plain": [
       "<Figure size 1225.12x360 with 1 Axes>"
      ]
     },
     "metadata": {
      "needs_background": "light"
     },
     "output_type": "display_data"
    }
   ],
   "source": [
    "plt.figure(figsize = (20,5))\n",
    "\n",
    "sns.catplot(x = 'Age', data = data, aspect = 3.0, kind = 'count', hue = 'Satisfaction', order=range(7, 80), palette = 'crest')\n",
    "\n",
    "# plt.savefig('2_age.png')\n",
    "# plt.savefig('2_age_t.png', transparent = True)\n",
    "plt.show()"
   ]
  },
  {
   "cell_type": "markdown",
   "metadata": {},
   "source": [
    "Most of passenger who feel more satisfied after flown with the airline are passengers between the ages 39 years old and 60 years old, than younger passengers."
   ]
  },
  {
   "cell_type": "markdown",
   "metadata": {},
   "source": [
    "__Are Loyal Customers Less Price Sensitive?__"
   ]
  },
  {
   "cell_type": "code",
   "execution_count": 14,
   "metadata": {},
   "outputs": [
    {
     "data": {
      "image/png": "[encoded data removed]",
      "text/plain": [
       "<Figure size 1440x360 with 2 Axes>"
      ]
     },
     "metadata": {
      "needs_background": "light"
     },
     "output_type": "display_data"
    }
   ],
   "source": [
    "plt.figure(figsize = (20, 5))\n",
    "\n",
    "plt.subplot(121)\n",
    "sns.countplot(x='Satisfaction', data = data, hue = 'Customer Type', palette = 'crest')\n",
    "plt.title('Customer Type', size = 15)\n",
    "plt.ylim(0, 70000)\n",
    "\n",
    "\n",
    "plt.subplot(122)\n",
    "sns.countplot(x='Customer Type', data = data, hue = 'Class', hue_order = ['Business', 'Eco Plus', 'Eco'] , palette = 'crest')\n",
    "plt.title('Customer type and class', size = 15)\n",
    "plt.ylim(0, 70000)\n",
    "\n",
    "# plt.savefig('3_typeandclass.png')\n",
    "# plt.savefig('3_typeandclass_t.png', transparent = True)\n",
    "\n",
    "plt.show()"
   ]
  },
  {
   "cell_type": "markdown",
   "metadata": {},
   "source": [
    "Loyal passengers are very high in satisfied and dissatisfied, likewise the loyal customer categories is the largest passengers number who travel with us.\n",
    "<br> Especially on business class trips where basically business ticket prices are much more expensive."
   ]
  },
  {
   "cell_type": "markdown",
   "metadata": {},
   "source": [
    "Notes about [Class Level]('https://www.momondo.com/discover/economy-business-and-first-class-seats')"
   ]
  },
  {
   "cell_type": "code",
   "execution_count": 15,
   "metadata": {},
   "outputs": [
    {
     "data": {
      "image/png": "[encoded data removed]",
      "text/plain": [
       "<Figure size 1440x360 with 2 Axes>"
      ]
     },
     "metadata": {
      "needs_background": "light"
     },
     "output_type": "display_data"
    }
   ],
   "source": [
    "plt.figure(figsize = (20, 5))\n",
    "\n",
    "plt.subplot(121)\n",
    "sns.countplot(x='Satisfaction', data = data, hue = 'Customer Type', palette = 'crest')\n",
    "plt.title('Customer Type', size = 15)\n",
    "plt.ylim(0, 70000)\n",
    "\n",
    "plt.subplot(122)\n",
    "sns.countplot(x='Customer Type', data = data, hue = 'Type of Travel', palette = 'crest')\n",
    "plt.title('Customer type and Type of Travel', size = 15)\n",
    "plt.ylim(0, 70000)\n",
    "\n",
    "\n",
    "# plt.savefig('4_typetravelandcustomer.png')\n",
    "# plt.savefig('4_typetravelandcustomer_t.png', transparent = True)\n",
    "plt.show()"
   ]
  },
  {
   "cell_type": "markdown",
   "metadata": {},
   "source": [
    "Loyal customers have a very large number of trip, both in personal travel and in business travel.\n",
    "<br> And, it turns out that disloyal customers rarely travel and even then, maybe they only travel for business purposes (most likely they are traveling that paid by the office)."
   ]
  },
  {
   "cell_type": "code",
   "execution_count": 16,
   "metadata": {},
   "outputs": [
    {
     "data": {
      "image/png": "[encoded data removed]",
      "text/plain": [
       "<Figure size 720x360 with 1 Axes>"
      ]
     },
     "metadata": {
      "needs_background": "light"
     },
     "output_type": "display_data"
    }
   ],
   "source": [
    "plt.figure(figsize=(10, 5))\n",
    "\n",
    "sns.lineplot(data = data, x='Departure Delay in Minutes', y = 'Arrival Delay in Minutes', color = 'teal', linewidth = 5)\n",
    "plt.title('Departure Delay vs Arrival Delay', size = 15)\n",
    "\n",
    "# plt.savefig('5_delay.png')\n",
    "# plt.savefig('5_delay_t.png', transparent = True)\n",
    "plt.show()"
   ]
  },
  {
   "cell_type": "markdown",
   "metadata": {},
   "source": [
    "From the visualization above, departure delay timer and arrival delay time is linear enough.\n",
    "<br> Logically, if the plane departs later than expected, the plane must also arrive later.\n",
    "In the last notebook, between \"Delay in Departures in Minutes\" and \"Delay in Arrival in Minutes\" has highest correlation over all columns with 0.97. "
   ]
  },
  {
   "cell_type": "markdown",
   "metadata": {},
   "source": [
    "> #### __Airline Service__"
   ]
  },
  {
   "cell_type": "markdown",
   "metadata": {},
   "source": [
    "__BEFORE FLIGHT__"
   ]
  },
  {
   "cell_type": "code",
   "execution_count": 17,
   "metadata": {},
   "outputs": [
    {
     "data": {
      "image/png": "[encoded data removed]",
      "text/plain": [
       "<Figure size 1440x720 with 6 Axes>"
      ]
     },
     "metadata": {
      "needs_background": "light"
     },
     "output_type": "display_data"
    }
   ],
   "source": [
    "plt.figure(figsize = (20, 10))\n",
    "\n",
    "plt.subplot(321)\n",
    "sns.countplot(x='Departure/Arrival time convenient', data = data, palette = 'crest')\n",
    "plt.title('Departure/Arrival time convenient', size = 15)\n",
    "plt.ylim(0, 50000)\n",
    "\n",
    "plt.subplot(322)\n",
    "sns.countplot(x='Online support', data = data, palette = 'crest')\n",
    "plt.title('Online Support', size = 15)\n",
    "plt.ylim(0, 50000)\n",
    "\n",
    "plt.subplot(323)\n",
    "sns.countplot(x='Ease of Online booking', data = data, palette = 'crest')\n",
    "plt.title('Ease of Online booking', size = 15)\n",
    "plt.ylim(0, 50000)\n",
    "\n",
    "plt.subplot(324)\n",
    "sns.countplot(x='Checkin service', data = data, palette = 'crest')\n",
    "plt.title('Checkin service', size = 15)\n",
    "plt.ylim(0, 50000)\n",
    "\n",
    "plt.subplot(325)\n",
    "sns.countplot(x='Online boarding', data = data, palette = 'crest')\n",
    "plt.title('Online boarding', size = 15)\n",
    "plt.ylim(0, 50000)\n",
    "\n",
    "plt.subplot(326)\n",
    "sns.countplot(x='Baggage handling', data = data, palette = 'crest')\n",
    "plt.title('Baggage handling', size = 15)\n",
    "plt.ylim(0, 50000)\n",
    "\n",
    "plt.tight_layout(pad = 3)\n",
    "\n",
    "# plt.savefig('6_beforeflight.png')\n",
    "# plt.savefig('6_beforeflight_t.png', transparent = True)\n",
    "plt.show()"
   ]
  },
  {
   "cell_type": "markdown",
   "metadata": {},
   "source": [
    "From this visualization, we can see that in airline service before flight aspect:\n",
    "\n",
    "- Passenger who give 0 is quite small, the only one service that no 0 point is baggage handling and the highest number is Departure/Arrival time convenient.\n",
    "- There are many passengers who give 1 and 2 points in Departure/Arrival time convenient aspect. They are also the most passengers giving 0 points in number than other aspect in service inflight. \n",
    "- The best aspect from before flight service are online support and baggage handling.\n",
    "- Departure/Arrival time convenient aspects should be considered and improved."
   ]
  },
  {
   "cell_type": "markdown",
   "metadata": {},
   "source": [
    "__IN FLIGHT__"
   ]
  },
  {
   "cell_type": "code",
   "execution_count": 18,
   "metadata": {},
   "outputs": [
    {
     "data": {
      "image/png": "[encoded data removed]",
      "text/plain": [
       "<Figure size 648x504 with 3 Axes>"
      ]
     },
     "metadata": {
      "needs_background": "light"
     },
     "output_type": "display_data"
    }
   ],
   "source": [
    "plt.figure(figsize = (9, 7))\n",
    "\n",
    "plt.subplot(311)\n",
    "sns.countplot(x='Food and drink', data = data, palette = 'crest')\n",
    "plt.title('food and drink', size = 15)\n",
    "plt.ylim(0, 50000)\n",
    "\n",
    "plt.subplot(312)\n",
    "sns.countplot(x='On-board service', data = data, palette = 'crest')\n",
    "plt.title(' On-board service', size = 15)\n",
    "plt.ylim(0, 50000)\n",
    "\n",
    "plt.subplot(313)\n",
    "sns.countplot(x='Cleanliness', data = data, palette = 'crest')\n",
    "plt.title('cleanliness', size = 15)\n",
    "plt.ylim(0, 50000)\n",
    "\n",
    "plt.tight_layout(pad = 2)\n",
    "\n",
    "# plt.savefig('7_inflight.png')\n",
    "# plt.savefig('7_inflight_t.png', transparent = True)\n",
    "plt.show()"
   ]
  },
  {
   "cell_type": "markdown",
   "metadata": {},
   "source": [
    "From this visualization, we can see that in airline service inflight aspect:\n",
    "- There are many passengers who give 1 and 2 points in food and drink aspect. They are also the most passengers giving 0 points in number than other aspect in service inflight. This aspect should be considered and improved, there may be a problem with these services.\n",
    "- The best aspect from inflight service is cleanliness."
   ]
  },
  {
   "cell_type": "markdown",
   "metadata": {},
   "source": [
    "> __AIRLINE FACILITIES SATISFACTION__"
   ]
  },
  {
   "cell_type": "code",
   "execution_count": 19,
   "metadata": {},
   "outputs": [
    {
     "data": {
      "image/png": "[encoded data removed]",
      "text/plain": [
       "<Figure size 1440x720 with 5 Axes>"
      ]
     },
     "metadata": {
      "needs_background": "light"
     },
     "output_type": "display_data"
    }
   ],
   "source": [
    "plt.figure(figsize = (20, 10))\n",
    "\n",
    "plt.subplot(321)\n",
    "sns.countplot(x='Seat comfort', data = data, palette = 'crest')\n",
    "plt.title('Seat comfort', size = 15)\n",
    "plt.ylim(0, 50000)\n",
    "\n",
    "plt.subplot(322)\n",
    "sns.countplot(x='Gate location', data = data, palette = 'crest')\n",
    "plt.title('Gate location', size = 15)\n",
    "plt.ylim(0, 50000)\n",
    "\n",
    "plt.subplot(323)\n",
    "sns.countplot(x='Inflight wifi service', data = data, palette = 'crest')\n",
    "plt.title('Inflight wifi service', size = 15)\n",
    "plt.ylim(0, 50000)\n",
    "\n",
    "plt.subplot(324)\n",
    "sns.countplot(x='Inflight entertainment', data = data, palette = 'crest')\n",
    "plt.title('inflight entertainment', size = 15)\n",
    "plt.ylim(0, 50000)\n",
    "\n",
    "plt.subplot(325)\n",
    "sns.countplot(x='Leg room service', data = data, palette = 'crest')\n",
    "plt.title('Leg room service', size = 15)\n",
    "plt.ylim(0, 50000)\n",
    "\n",
    "plt.tight_layout(pad = 4)\n",
    "\n",
    "# plt.savefig('8_facilities.png')\n",
    "# plt.savefig('8_facilities_t.png', transparent = True)\n",
    "# plt.savefig('8_facilities_t_.png', transparent = True)\n",
    "plt.show()"
   ]
  },
  {
   "cell_type": "markdown",
   "metadata": {},
   "source": [
    "From this visualization, we can see that in airline facilities aspect:\n",
    "- The seat comfort and gate location of the plane is the most unliked by passenger\n",
    "- There are many passengers who give 1 and 2 points in food and drink aspect.\n",
    "- The best aspect from inflight service is infligh entertainment and leg room service."
   ]
  },
  {
   "cell_type": "markdown",
   "metadata": {},
   "source": [
    " #### __Which aspect of the services offered by them have to be emphasized more to generate more satisfied passengers?__"
   ]
  },
  {
   "cell_type": "markdown",
   "metadata": {},
   "source": [
    "Here, I will assume that the aspect that need to be improved are those that have the most value in level 1 and Level 2.\n",
    "And i just take one aspect from every categories for trial improvement."
   ]
  },
  {
   "cell_type": "markdown",
   "metadata": {},
   "source": [
    "__AIRLINE SERVICE(BEFORE FLIGHT)__"
   ]
  },
  {
   "cell_type": "code",
   "execution_count": 20,
   "metadata": {},
   "outputs": [
    {
     "data": {
      "text/html": [
       "<div>\n",
       "<style scoped>\n",
       "    .dataframe tbody tr th:only-of-type {\n",
       "        vertical-align: middle;\n",
       "    }\n",
       "\n",
       "    .dataframe tbody tr th {\n",
       "        vertical-align: top;\n",
       "    }\n",
       "\n",
       "    .dataframe thead th {\n",
       "        text-align: right;\n",
       "    }\n",
       "</style>\n",
       "<table border=\"1\" class=\"dataframe\">\n",
       "  <thead>\n",
       "    <tr style=\"text-align: right;\">\n",
       "      <th></th>\n",
       "      <th>Level</th>\n",
       "      <th>departure</th>\n",
       "      <th>onlinesupport</th>\n",
       "      <th>easybooking</th>\n",
       "      <th>baggage</th>\n",
       "      <th>checkin</th>\n",
       "      <th>online_boarding</th>\n",
       "      <th>Total</th>\n",
       "    </tr>\n",
       "  </thead>\n",
       "  <tbody>\n",
       "    <tr>\n",
       "      <th>0</th>\n",
       "      <td>4</td>\n",
       "      <td>14070</td>\n",
       "      <td>13262</td>\n",
       "      <td>11280</td>\n",
       "      <td>19859.0</td>\n",
       "      <td>15431</td>\n",
       "      <td>12235</td>\n",
       "      <td>86137.0</td>\n",
       "    </tr>\n",
       "    <tr>\n",
       "      <th>1</th>\n",
       "      <td>5</td>\n",
       "      <td>11893</td>\n",
       "      <td>8066</td>\n",
       "      <td>8008</td>\n",
       "      <td>9450.0</td>\n",
       "      <td>7136</td>\n",
       "      <td>8040</td>\n",
       "      <td>52593.0</td>\n",
       "    </tr>\n",
       "    <tr>\n",
       "      <th>2</th>\n",
       "      <td>3</td>\n",
       "      <td>10678</td>\n",
       "      <td>15499</td>\n",
       "      <td>14403</td>\n",
       "      <td>16764.0</td>\n",
       "      <td>15378</td>\n",
       "      <td>13861</td>\n",
       "      <td>86583.0</td>\n",
       "    </tr>\n",
       "    <tr>\n",
       "      <th>3</th>\n",
       "      <td>2</td>\n",
       "      <td>10482</td>\n",
       "      <td>12141</td>\n",
       "      <td>14240</td>\n",
       "      <td>8117.0</td>\n",
       "      <td>10339</td>\n",
       "      <td>13352</td>\n",
       "      <td>68671.0</td>\n",
       "    </tr>\n",
       "    <tr>\n",
       "      <th>4</th>\n",
       "      <td>1</td>\n",
       "      <td>8617</td>\n",
       "      <td>9824</td>\n",
       "      <td>10844</td>\n",
       "      <td>4603.0</td>\n",
       "      <td>10508</td>\n",
       "      <td>11291</td>\n",
       "      <td>55687.0</td>\n",
       "    </tr>\n",
       "    <tr>\n",
       "      <th>5</th>\n",
       "      <td>0</td>\n",
       "      <td>3053</td>\n",
       "      <td>1</td>\n",
       "      <td>18</td>\n",
       "      <td>NaN</td>\n",
       "      <td>1</td>\n",
       "      <td>14</td>\n",
       "      <td>3087.0</td>\n",
       "    </tr>\n",
       "  </tbody>\n",
       "</table>\n",
       "</div>"
      ],
      "text/plain": [
       "   Level  departure  onlinesupport  easybooking  baggage  checkin  \\\n",
       "0      4      14070          13262        11280  19859.0    15431   \n",
       "1      5      11893           8066         8008   9450.0     7136   \n",
       "2      3      10678          15499        14403  16764.0    15378   \n",
       "3      2      10482          12141        14240   8117.0    10339   \n",
       "4      1       8617           9824        10844   4603.0    10508   \n",
       "5      0       3053              1           18      NaN        1   \n",
       "\n",
       "   online_boarding    Total  \n",
       "0            12235  86137.0  \n",
       "1             8040  52593.0  \n",
       "2            13861  86583.0  \n",
       "3            13352  68671.0  \n",
       "4            11291  55687.0  \n",
       "5               14   3087.0  "
      ]
     },
     "execution_count": 20,
     "metadata": {},
     "output_type": "execute_result"
    }
   ],
   "source": [
    "#Make dataframe about satisfaction level per aspect based on neutral/dissatisfied passenger.\n",
    "\n",
    "dissatisfied = data[data['Satisfaction'] == 'neutral or dissatisfied']['Satisfaction']\n",
    "\n",
    "tab = pd.DataFrame()\n",
    "tab['departure'] = data['Departure/Arrival time convenient'].groupby(dissatisfied).value_counts()\n",
    "tab['onlinesupport'] = data['Online support'].groupby(dissatisfied).value_counts()\n",
    "tab['easybooking'] = data['Ease of Online booking'].groupby(dissatisfied).value_counts()\n",
    "tab['baggage'] = data['Baggage handling'].groupby(dissatisfied).value_counts()\n",
    "tab['checkin'] = data['Checkin service'].groupby(dissatisfied).value_counts()\n",
    "tab['online_boarding'] = data['Online boarding'].groupby(dissatisfied).value_counts()\n",
    "tab['Total'] = tab[['departure', 'onlinesupport', 'easybooking', 'baggage', 'checkin' ,'online_boarding']].sum(axis=1)\n",
    "\n",
    "\n",
    "tab.reset_index(inplace = True)\n",
    "tab.drop('Satisfaction', axis = 1, inplace = True)\n",
    "tab.rename(columns={'Departure/Arrival time convenient': 'Level'}, inplace = True)\n",
    "tab"
   ]
  },
  {
   "cell_type": "code",
   "execution_count": 21,
   "metadata": {},
   "outputs": [
    {
     "data": {
      "text/html": [
       "<div>\n",
       "<style scoped>\n",
       "    .dataframe tbody tr th:only-of-type {\n",
       "        vertical-align: middle;\n",
       "    }\n",
       "\n",
       "    .dataframe tbody tr th {\n",
       "        vertical-align: top;\n",
       "    }\n",
       "\n",
       "    .dataframe thead th {\n",
       "        text-align: right;\n",
       "    }\n",
       "</style>\n",
       "<table border=\"1\" class=\"dataframe\">\n",
       "  <thead>\n",
       "    <tr style=\"text-align: right;\">\n",
       "      <th></th>\n",
       "      <th>Level</th>\n",
       "      <th>departure</th>\n",
       "      <th>onlinesupport</th>\n",
       "      <th>easybooking</th>\n",
       "      <th>baggage</th>\n",
       "      <th>checkin</th>\n",
       "      <th>online_boarding</th>\n",
       "      <th>Total</th>\n",
       "    </tr>\n",
       "  </thead>\n",
       "  <tbody>\n",
       "    <tr>\n",
       "      <th>0</th>\n",
       "      <td>4</td>\n",
       "      <td>16.334444</td>\n",
       "      <td>15.396403</td>\n",
       "      <td>13.095418</td>\n",
       "      <td>23.055133</td>\n",
       "      <td>17.914485</td>\n",
       "      <td>14.204117</td>\n",
       "      <td>100.0</td>\n",
       "    </tr>\n",
       "    <tr>\n",
       "      <th>1</th>\n",
       "      <td>5</td>\n",
       "      <td>22.613276</td>\n",
       "      <td>15.336642</td>\n",
       "      <td>15.226361</td>\n",
       "      <td>17.968171</td>\n",
       "      <td>13.568346</td>\n",
       "      <td>15.287206</td>\n",
       "      <td>100.0</td>\n",
       "    </tr>\n",
       "    <tr>\n",
       "      <th>2</th>\n",
       "      <td>3</td>\n",
       "      <td>12.332675</td>\n",
       "      <td>17.900743</td>\n",
       "      <td>16.634905</td>\n",
       "      <td>19.361768</td>\n",
       "      <td>17.760992</td>\n",
       "      <td>16.008916</td>\n",
       "      <td>100.0</td>\n",
       "    </tr>\n",
       "    <tr>\n",
       "      <th>3</th>\n",
       "      <td>2</td>\n",
       "      <td>15.264085</td>\n",
       "      <td>17.679952</td>\n",
       "      <td>20.736555</td>\n",
       "      <td>11.820128</td>\n",
       "      <td>15.055846</td>\n",
       "      <td>19.443433</td>\n",
       "      <td>100.0</td>\n",
       "    </tr>\n",
       "    <tr>\n",
       "      <th>4</th>\n",
       "      <td>1</td>\n",
       "      <td>15.473989</td>\n",
       "      <td>17.641460</td>\n",
       "      <td>19.473127</td>\n",
       "      <td>8.265843</td>\n",
       "      <td>18.869754</td>\n",
       "      <td>20.275827</td>\n",
       "      <td>100.0</td>\n",
       "    </tr>\n",
       "    <tr>\n",
       "      <th>5</th>\n",
       "      <td>0</td>\n",
       "      <td>98.898607</td>\n",
       "      <td>0.032394</td>\n",
       "      <td>0.583090</td>\n",
       "      <td>NaN</td>\n",
       "      <td>0.032394</td>\n",
       "      <td>0.453515</td>\n",
       "      <td>100.0</td>\n",
       "    </tr>\n",
       "  </tbody>\n",
       "</table>\n",
       "</div>"
      ],
      "text/plain": [
       "   Level  departure  onlinesupport  easybooking    baggage    checkin  \\\n",
       "0      4  16.334444      15.396403    13.095418  23.055133  17.914485   \n",
       "1      5  22.613276      15.336642    15.226361  17.968171  13.568346   \n",
       "2      3  12.332675      17.900743    16.634905  19.361768  17.760992   \n",
       "3      2  15.264085      17.679952    20.736555  11.820128  15.055846   \n",
       "4      1  15.473989      17.641460    19.473127   8.265843  18.869754   \n",
       "5      0  98.898607       0.032394     0.583090        NaN   0.032394   \n",
       "\n",
       "   online_boarding  Total  \n",
       "0        14.204117  100.0  \n",
       "1        15.287206  100.0  \n",
       "2        16.008916  100.0  \n",
       "3        19.443433  100.0  \n",
       "4        20.275827  100.0  \n",
       "5         0.453515  100.0  "
      ]
     },
     "execution_count": 21,
     "metadata": {},
     "output_type": "execute_result"
    }
   ],
   "source": [
    "#make it in percentage view\n",
    "tab_perc = tab.copy()\n",
    "\n",
    "tab_perc['departure'] = tab['departure']/tab['Total']*100\n",
    "tab_perc['onlinesupport'] = tab['onlinesupport']/tab['Total']*100\n",
    "tab_perc['easybooking'] = tab['easybooking']/tab['Total']*100\n",
    "tab_perc['baggage'] = tab['baggage']/tab['Total']*100\n",
    "tab_perc['checkin'] = tab['checkin']/tab['Total']*100\n",
    "tab_perc['online_boarding'] = tab['online_boarding']/tab['Total']*100\n",
    "\n",
    "\n",
    "tab_perc['Total'] = tab_perc[['departure', 'onlinesupport', 'easybooking', 'baggage', 'checkin', 'online_boarding']].sum(axis = 1)\n",
    "tab_perc"
   ]
  },
  {
   "cell_type": "code",
   "execution_count": 43,
   "metadata": {},
   "outputs": [
    {
     "data": {
      "text/html": [
       "<div>\n",
       "<style scoped>\n",
       "    .dataframe tbody tr th:only-of-type {\n",
       "        vertical-align: middle;\n",
       "    }\n",
       "\n",
       "    .dataframe tbody tr th {\n",
       "        vertical-align: top;\n",
       "    }\n",
       "\n",
       "    .dataframe thead th {\n",
       "        text-align: right;\n",
       "    }\n",
       "</style>\n",
       "<table border=\"1\" class=\"dataframe\">\n",
       "  <thead>\n",
       "    <tr style=\"text-align: right;\">\n",
       "      <th></th>\n",
       "      <th>Level</th>\n",
       "      <th>departure</th>\n",
       "      <th>onlinesupport</th>\n",
       "      <th>easybooking</th>\n",
       "      <th>baggage</th>\n",
       "      <th>checkin</th>\n",
       "      <th>online_boarding</th>\n",
       "    </tr>\n",
       "  </thead>\n",
       "  <tbody>\n",
       "    <tr>\n",
       "      <th>5</th>\n",
       "      <td>0</td>\n",
       "      <td>98.898607</td>\n",
       "      <td>0.032394</td>\n",
       "      <td>0.583090</td>\n",
       "      <td>NaN</td>\n",
       "      <td>0.032394</td>\n",
       "      <td>0.453515</td>\n",
       "    </tr>\n",
       "    <tr>\n",
       "      <th>4</th>\n",
       "      <td>1</td>\n",
       "      <td>15.473989</td>\n",
       "      <td>17.641460</td>\n",
       "      <td>19.473127</td>\n",
       "      <td>8.265843</td>\n",
       "      <td>18.869754</td>\n",
       "      <td>20.275827</td>\n",
       "    </tr>\n",
       "    <tr>\n",
       "      <th>3</th>\n",
       "      <td>2</td>\n",
       "      <td>15.264085</td>\n",
       "      <td>17.679952</td>\n",
       "      <td>20.736555</td>\n",
       "      <td>11.820128</td>\n",
       "      <td>15.055846</td>\n",
       "      <td>19.443433</td>\n",
       "    </tr>\n",
       "    <tr>\n",
       "      <th>2</th>\n",
       "      <td>3</td>\n",
       "      <td>12.332675</td>\n",
       "      <td>17.900743</td>\n",
       "      <td>16.634905</td>\n",
       "      <td>19.361768</td>\n",
       "      <td>17.760992</td>\n",
       "      <td>16.008916</td>\n",
       "    </tr>\n",
       "    <tr>\n",
       "      <th>0</th>\n",
       "      <td>4</td>\n",
       "      <td>16.334444</td>\n",
       "      <td>15.396403</td>\n",
       "      <td>13.095418</td>\n",
       "      <td>23.055133</td>\n",
       "      <td>17.914485</td>\n",
       "      <td>14.204117</td>\n",
       "    </tr>\n",
       "    <tr>\n",
       "      <th>1</th>\n",
       "      <td>5</td>\n",
       "      <td>22.613276</td>\n",
       "      <td>15.336642</td>\n",
       "      <td>15.226361</td>\n",
       "      <td>17.968171</td>\n",
       "      <td>13.568346</td>\n",
       "      <td>15.287206</td>\n",
       "    </tr>\n",
       "  </tbody>\n",
       "</table>\n",
       "</div>"
      ],
      "text/plain": [
       "   Level  departure  onlinesupport  easybooking    baggage    checkin  \\\n",
       "5      0  98.898607       0.032394     0.583090        NaN   0.032394   \n",
       "4      1  15.473989      17.641460    19.473127   8.265843  18.869754   \n",
       "3      2  15.264085      17.679952    20.736555  11.820128  15.055846   \n",
       "2      3  12.332675      17.900743    16.634905  19.361768  17.760992   \n",
       "0      4  16.334444      15.396403    13.095418  23.055133  17.914485   \n",
       "1      5  22.613276      15.336642    15.226361  17.968171  13.568346   \n",
       "\n",
       "   online_boarding  \n",
       "5         0.453515  \n",
       "4        20.275827  \n",
       "3        19.443433  \n",
       "2        16.008916  \n",
       "0        14.204117  \n",
       "1        15.287206  "
      ]
     },
     "execution_count": 43,
     "metadata": {},
     "output_type": "execute_result"
    }
   ],
   "source": [
    "service_beforeflight = tab_perc.iloc[:, :-1].sort_values(by=['Level'])\n",
    "service_beforeflight"
   ]
  },
  {
   "cell_type": "code",
   "execution_count": 44,
   "metadata": {},
   "outputs": [
    {
     "data": {
      "image/png": "[encoded data removed]",
      "text/plain": [
       "<Figure size 720x720 with 1 Axes>"
      ]
     },
     "metadata": {
      "needs_background": "light"
     },
     "output_type": "display_data"
    }
   ],
   "source": [
    "#Make a barstack percentage plot\n",
    "\n",
    "service_beforeflight.plot(x = 'Level',  \n",
    "    kind = 'bar', \n",
    "    stacked = True, \n",
    "    title = 'Airline Service (Before Flight)',\n",
    "    mark_right = True,\n",
    "    figsize=(10,10),\n",
    "    colormap = 'crest')\n",
    "\n",
    "plt.xlabel('Satisfaction Level')\n",
    "plt.ylabel('Percentage (%)')\n",
    "\n",
    "\n",
    "plt.show()"
   ]
  },
  {
   "cell_type": "markdown",
   "metadata": {},
   "source": [
    "From the visualization we can see that the worst aspect are Ease of Online booking and Online boarding services.\n",
    "<br> The data shows that there is a very small difference in the total of level 1 and level two from both services.\n",
    "<br> These aspect should be considered and improved."
   ]
  },
  {
   "cell_type": "markdown",
   "metadata": {},
   "source": [
    "#### __AIRLINE SERVICE (IN FLIGHT)__"
   ]
  },
  {
   "cell_type": "code",
   "execution_count": 26,
   "metadata": {},
   "outputs": [
    {
     "data": {
      "text/html": [
       "<div>\n",
       "<style scoped>\n",
       "    .dataframe tbody tr th:only-of-type {\n",
       "        vertical-align: middle;\n",
       "    }\n",
       "\n",
       "    .dataframe tbody tr th {\n",
       "        vertical-align: top;\n",
       "    }\n",
       "\n",
       "    .dataframe thead th {\n",
       "        text-align: right;\n",
       "    }\n",
       "</style>\n",
       "<table border=\"1\" class=\"dataframe\">\n",
       "  <thead>\n",
       "    <tr style=\"text-align: right;\">\n",
       "      <th></th>\n",
       "      <th>Level</th>\n",
       "      <th>fooddrink</th>\n",
       "      <th>onboardservice</th>\n",
       "      <th>cleanliness</th>\n",
       "      <th>Total</th>\n",
       "    </tr>\n",
       "  </thead>\n",
       "  <tbody>\n",
       "    <tr>\n",
       "      <th>0</th>\n",
       "      <td>3</td>\n",
       "      <td>16088</td>\n",
       "      <td>15937</td>\n",
       "      <td>16358</td>\n",
       "      <td>48383</td>\n",
       "    </tr>\n",
       "    <tr>\n",
       "      <th>1</th>\n",
       "      <td>2</td>\n",
       "      <td>15406</td>\n",
       "      <td>11324</td>\n",
       "      <td>7985</td>\n",
       "      <td>34715</td>\n",
       "    </tr>\n",
       "    <tr>\n",
       "      <th>2</th>\n",
       "      <td>4</td>\n",
       "      <td>11153</td>\n",
       "      <td>14355</td>\n",
       "      <td>20166</td>\n",
       "      <td>45674</td>\n",
       "    </tr>\n",
       "    <tr>\n",
       "      <th>3</th>\n",
       "      <td>1</td>\n",
       "      <td>10361</td>\n",
       "      <td>9735</td>\n",
       "      <td>4635</td>\n",
       "      <td>24731</td>\n",
       "    </tr>\n",
       "    <tr>\n",
       "      <th>4</th>\n",
       "      <td>5</td>\n",
       "      <td>4473</td>\n",
       "      <td>7437</td>\n",
       "      <td>9644</td>\n",
       "      <td>21554</td>\n",
       "    </tr>\n",
       "    <tr>\n",
       "      <th>5</th>\n",
       "      <td>0</td>\n",
       "      <td>1312</td>\n",
       "      <td>5</td>\n",
       "      <td>5</td>\n",
       "      <td>1322</td>\n",
       "    </tr>\n",
       "  </tbody>\n",
       "</table>\n",
       "</div>"
      ],
      "text/plain": [
       "   Level  fooddrink  onboardservice  cleanliness  Total\n",
       "0      3      16088           15937        16358  48383\n",
       "1      2      15406           11324         7985  34715\n",
       "2      4      11153           14355        20166  45674\n",
       "3      1      10361            9735         4635  24731\n",
       "4      5       4473            7437         9644  21554\n",
       "5      0       1312               5            5   1322"
      ]
     },
     "execution_count": 26,
     "metadata": {},
     "output_type": "execute_result"
    }
   ],
   "source": [
    "#Make dataframe about satisfaction level per aspect based on neutral/dissatisfied passenger.\n",
    "\n",
    "dissatisfied = data[data['Satisfaction'] == 'neutral or dissatisfied']['Satisfaction']\n",
    "\n",
    "tab1 = pd.DataFrame()\n",
    "tab1['fooddrink'] = data['Food and drink'].groupby(dissatisfied).value_counts()\n",
    "tab1['onboardservice'] = data['On-board service'].groupby(dissatisfied).value_counts()\n",
    "tab1['cleanliness'] = data['Cleanliness'].groupby(dissatisfied).value_counts()\n",
    "\n",
    "tab1['Total'] = tab1[['fooddrink', 'onboardservice', 'cleanliness']].sum(axis=1)\n",
    "\n",
    "tab1.reset_index(inplace = True)\n",
    "tab1.drop('Satisfaction', axis = 1, inplace = True)\n",
    "tab1.rename(columns={'Food and drink': 'Level'}, inplace = True)\n",
    "tab1"
   ]
  },
  {
   "cell_type": "code",
   "execution_count": 27,
   "metadata": {},
   "outputs": [
    {
     "data": {
      "text/html": [
       "<div>\n",
       "<style scoped>\n",
       "    .dataframe tbody tr th:only-of-type {\n",
       "        vertical-align: middle;\n",
       "    }\n",
       "\n",
       "    .dataframe tbody tr th {\n",
       "        vertical-align: top;\n",
       "    }\n",
       "\n",
       "    .dataframe thead th {\n",
       "        text-align: right;\n",
       "    }\n",
       "</style>\n",
       "<table border=\"1\" class=\"dataframe\">\n",
       "  <thead>\n",
       "    <tr style=\"text-align: right;\">\n",
       "      <th></th>\n",
       "      <th>Level</th>\n",
       "      <th>fooddrink</th>\n",
       "      <th>onboardservice</th>\n",
       "      <th>cleanliness</th>\n",
       "      <th>Total</th>\n",
       "    </tr>\n",
       "  </thead>\n",
       "  <tbody>\n",
       "    <tr>\n",
       "      <th>0</th>\n",
       "      <td>3</td>\n",
       "      <td>33.251349</td>\n",
       "      <td>32.939256</td>\n",
       "      <td>33.809396</td>\n",
       "      <td>100.0</td>\n",
       "    </tr>\n",
       "    <tr>\n",
       "      <th>1</th>\n",
       "      <td>2</td>\n",
       "      <td>44.378511</td>\n",
       "      <td>32.619905</td>\n",
       "      <td>23.001584</td>\n",
       "      <td>100.0</td>\n",
       "    </tr>\n",
       "    <tr>\n",
       "      <th>2</th>\n",
       "      <td>4</td>\n",
       "      <td>24.418706</td>\n",
       "      <td>31.429260</td>\n",
       "      <td>44.152034</td>\n",
       "      <td>100.0</td>\n",
       "    </tr>\n",
       "    <tr>\n",
       "      <th>3</th>\n",
       "      <td>1</td>\n",
       "      <td>41.894788</td>\n",
       "      <td>39.363552</td>\n",
       "      <td>18.741660</td>\n",
       "      <td>100.0</td>\n",
       "    </tr>\n",
       "    <tr>\n",
       "      <th>4</th>\n",
       "      <td>5</td>\n",
       "      <td>20.752529</td>\n",
       "      <td>34.504036</td>\n",
       "      <td>44.743435</td>\n",
       "      <td>100.0</td>\n",
       "    </tr>\n",
       "    <tr>\n",
       "      <th>5</th>\n",
       "      <td>0</td>\n",
       "      <td>99.243570</td>\n",
       "      <td>0.378215</td>\n",
       "      <td>0.378215</td>\n",
       "      <td>100.0</td>\n",
       "    </tr>\n",
       "  </tbody>\n",
       "</table>\n",
       "</div>"
      ],
      "text/plain": [
       "   Level  fooddrink  onboardservice  cleanliness  Total\n",
       "0      3  33.251349       32.939256    33.809396  100.0\n",
       "1      2  44.378511       32.619905    23.001584  100.0\n",
       "2      4  24.418706       31.429260    44.152034  100.0\n",
       "3      1  41.894788       39.363552    18.741660  100.0\n",
       "4      5  20.752529       34.504036    44.743435  100.0\n",
       "5      0  99.243570        0.378215     0.378215  100.0"
      ]
     },
     "execution_count": 27,
     "metadata": {},
     "output_type": "execute_result"
    }
   ],
   "source": [
    "#make it in percentage view\n",
    "\n",
    "tab_perc1 = tab1.copy()\n",
    "\n",
    "tab_perc1['fooddrink'] = tab1['fooddrink']/tab1['Total']*100\n",
    "tab_perc1['onboardservice'] = tab1['onboardservice']/tab1['Total']*100\n",
    "tab_perc1['cleanliness'] = tab1['cleanliness']/tab1['Total']*100\n",
    "\n",
    "\n",
    "tab_perc1['Total'] = tab_perc1[['fooddrink', 'onboardservice', 'cleanliness']].sum(axis = 1)\n",
    "tab_perc1"
   ]
  },
  {
   "cell_type": "code",
   "execution_count": 41,
   "metadata": {},
   "outputs": [
    {
     "data": {
      "text/html": [
       "<div>\n",
       "<style scoped>\n",
       "    .dataframe tbody tr th:only-of-type {\n",
       "        vertical-align: middle;\n",
       "    }\n",
       "\n",
       "    .dataframe tbody tr th {\n",
       "        vertical-align: top;\n",
       "    }\n",
       "\n",
       "    .dataframe thead th {\n",
       "        text-align: right;\n",
       "    }\n",
       "</style>\n",
       "<table border=\"1\" class=\"dataframe\">\n",
       "  <thead>\n",
       "    <tr style=\"text-align: right;\">\n",
       "      <th></th>\n",
       "      <th>Level</th>\n",
       "      <th>fooddrink</th>\n",
       "      <th>onboardservice</th>\n",
       "      <th>cleanliness</th>\n",
       "    </tr>\n",
       "  </thead>\n",
       "  <tbody>\n",
       "    <tr>\n",
       "      <th>5</th>\n",
       "      <td>0</td>\n",
       "      <td>99.243570</td>\n",
       "      <td>0.378215</td>\n",
       "      <td>0.378215</td>\n",
       "    </tr>\n",
       "    <tr>\n",
       "      <th>3</th>\n",
       "      <td>1</td>\n",
       "      <td>41.894788</td>\n",
       "      <td>39.363552</td>\n",
       "      <td>18.741660</td>\n",
       "    </tr>\n",
       "    <tr>\n",
       "      <th>1</th>\n",
       "      <td>2</td>\n",
       "      <td>44.378511</td>\n",
       "      <td>32.619905</td>\n",
       "      <td>23.001584</td>\n",
       "    </tr>\n",
       "    <tr>\n",
       "      <th>0</th>\n",
       "      <td>3</td>\n",
       "      <td>33.251349</td>\n",
       "      <td>32.939256</td>\n",
       "      <td>33.809396</td>\n",
       "    </tr>\n",
       "    <tr>\n",
       "      <th>2</th>\n",
       "      <td>4</td>\n",
       "      <td>24.418706</td>\n",
       "      <td>31.429260</td>\n",
       "      <td>44.152034</td>\n",
       "    </tr>\n",
       "    <tr>\n",
       "      <th>4</th>\n",
       "      <td>5</td>\n",
       "      <td>20.752529</td>\n",
       "      <td>34.504036</td>\n",
       "      <td>44.743435</td>\n",
       "    </tr>\n",
       "  </tbody>\n",
       "</table>\n",
       "</div>"
      ],
      "text/plain": [
       "   Level  fooddrink  onboardservice  cleanliness\n",
       "5      0  99.243570        0.378215     0.378215\n",
       "3      1  41.894788       39.363552    18.741660\n",
       "1      2  44.378511       32.619905    23.001584\n",
       "0      3  33.251349       32.939256    33.809396\n",
       "2      4  24.418706       31.429260    44.152034\n",
       "4      5  20.752529       34.504036    44.743435"
      ]
     },
     "execution_count": 41,
     "metadata": {},
     "output_type": "execute_result"
    }
   ],
   "source": [
    "service_inflight = tab_perc1.iloc[:, :-1].sort_values(by=['Level'])\n",
    "service_inflight"
   ]
  },
  {
   "cell_type": "code",
   "execution_count": 42,
   "metadata": {},
   "outputs": [
    {
     "data": {
      "image/png": "[encoded data removed]",
      "text/plain": [
       "<Figure size 720x720 with 1 Axes>"
      ]
     },
     "metadata": {
      "needs_background": "light"
     },
     "output_type": "display_data"
    }
   ],
   "source": [
    "#Make a barstack percentage plot\n",
    "\n",
    "service_inflight.plot(x = 'Level',  \n",
    "    kind = 'bar', \n",
    "    stacked = True, \n",
    "    title = 'Airline Service (In Flight)',\n",
    "    figsize=(10,10),\n",
    "    colormap = 'crest')\n",
    "\n",
    "plt.xlabel('Satisfaction Level')\n",
    "plt.ylabel('Percentage (%)')\n",
    "\n",
    "\n",
    "plt.show()"
   ]
  },
  {
   "cell_type": "markdown",
   "metadata": {},
   "source": [
    "From the visualization we can see that the worst aspect are Food and drink.\n",
    "<br> There may be a problem with these services because the total of level 1 and level 2 is quite far from the others.\n",
    "<br> This aspect should be considered and improved."
   ]
  },
  {
   "cell_type": "markdown",
   "metadata": {},
   "source": [
    "#### __AIRLINE FACILITIES__"
   ]
  },
  {
   "cell_type": "code",
   "execution_count": 31,
   "metadata": {},
   "outputs": [
    {
     "data": {
      "text/html": [
       "<div>\n",
       "<style scoped>\n",
       "    .dataframe tbody tr th:only-of-type {\n",
       "        vertical-align: middle;\n",
       "    }\n",
       "\n",
       "    .dataframe tbody tr th {\n",
       "        vertical-align: top;\n",
       "    }\n",
       "\n",
       "    .dataframe thead th {\n",
       "        text-align: right;\n",
       "    }\n",
       "</style>\n",
       "<table border=\"1\" class=\"dataframe\">\n",
       "  <thead>\n",
       "    <tr style=\"text-align: right;\">\n",
       "      <th></th>\n",
       "      <th>Level</th>\n",
       "      <th>seatcomfort</th>\n",
       "      <th>gatelocation</th>\n",
       "      <th>wifiservice</th>\n",
       "      <th>inflight_ent</th>\n",
       "      <th>legroom</th>\n",
       "      <th>Total</th>\n",
       "    </tr>\n",
       "  </thead>\n",
       "  <tbody>\n",
       "    <tr>\n",
       "      <th>0</th>\n",
       "      <td>3</td>\n",
       "      <td>18794</td>\n",
       "      <td>18012.0</td>\n",
       "      <td>13535</td>\n",
       "      <td>19385</td>\n",
       "      <td>14113</td>\n",
       "      <td>83839.0</td>\n",
       "    </tr>\n",
       "    <tr>\n",
       "      <th>1</th>\n",
       "      <td>2</td>\n",
       "      <td>18454</td>\n",
       "      <td>10295.0</td>\n",
       "      <td>13464</td>\n",
       "      <td>15912</td>\n",
       "      <td>13559</td>\n",
       "      <td>71684.0</td>\n",
       "    </tr>\n",
       "    <tr>\n",
       "      <th>2</th>\n",
       "      <td>1</td>\n",
       "      <td>11503</td>\n",
       "      <td>8778.0</td>\n",
       "      <td>10762</td>\n",
       "      <td>9325</td>\n",
       "      <td>7980</td>\n",
       "      <td>48348.0</td>\n",
       "    </tr>\n",
       "    <tr>\n",
       "      <th>3</th>\n",
       "      <td>4</td>\n",
       "      <td>9891</td>\n",
       "      <td>15109.0</td>\n",
       "      <td>11423</td>\n",
       "      <td>11729</td>\n",
       "      <td>12984</td>\n",
       "      <td>61136.0</td>\n",
       "    </tr>\n",
       "    <tr>\n",
       "      <th>4</th>\n",
       "      <td>5</td>\n",
       "      <td>141</td>\n",
       "      <td>6599.0</td>\n",
       "      <td>9536</td>\n",
       "      <td>1430</td>\n",
       "      <td>10020</td>\n",
       "      <td>27726.0</td>\n",
       "    </tr>\n",
       "    <tr>\n",
       "      <th>5</th>\n",
       "      <td>0</td>\n",
       "      <td>10</td>\n",
       "      <td>NaN</td>\n",
       "      <td>73</td>\n",
       "      <td>1012</td>\n",
       "      <td>137</td>\n",
       "      <td>1232.0</td>\n",
       "    </tr>\n",
       "  </tbody>\n",
       "</table>\n",
       "</div>"
      ],
      "text/plain": [
       "   Level  seatcomfort  gatelocation  wifiservice  inflight_ent  legroom  \\\n",
       "0      3        18794       18012.0        13535         19385    14113   \n",
       "1      2        18454       10295.0        13464         15912    13559   \n",
       "2      1        11503        8778.0        10762          9325     7980   \n",
       "3      4         9891       15109.0        11423         11729    12984   \n",
       "4      5          141        6599.0         9536          1430    10020   \n",
       "5      0           10           NaN           73          1012      137   \n",
       "\n",
       "     Total  \n",
       "0  83839.0  \n",
       "1  71684.0  \n",
       "2  48348.0  \n",
       "3  61136.0  \n",
       "4  27726.0  \n",
       "5   1232.0  "
      ]
     },
     "execution_count": 31,
     "metadata": {},
     "output_type": "execute_result"
    }
   ],
   "source": [
    "#Make dataframe about satisfaction level per aspect based on neutral/dissatisfied passenger.\n",
    "\n",
    "dissatisfied = data[data['Satisfaction'] == 'neutral or dissatisfied']['Satisfaction']\n",
    "\n",
    "tab2 = pd.DataFrame()\n",
    "tab2['seatcomfort'] = data['Seat comfort'].groupby(dissatisfied).value_counts()\n",
    "tab2['gatelocation'] = data['Gate location'].groupby(dissatisfied).value_counts()\n",
    "tab2['wifiservice'] = data['Inflight wifi service'].groupby(dissatisfied).value_counts()\n",
    "tab2['inflight_ent'] = data['Inflight entertainment'].groupby(dissatisfied).value_counts()\n",
    "tab2['legroom'] = data['Leg room service'].groupby(dissatisfied).value_counts()\n",
    "\n",
    "\n",
    "tab2['Total'] = tab2[['seatcomfort', 'gatelocation', 'wifiservice', 'inflight_ent', 'legroom']].sum(axis=1)\n",
    "\n",
    "\n",
    "tab2.reset_index(inplace = True)\n",
    "tab2.drop('Satisfaction', axis = 1, inplace = True)\n",
    "tab2.rename(columns={'Seat comfort': 'Level'}, inplace = True)\n",
    "tab2"
   ]
  },
  {
   "cell_type": "code",
   "execution_count": 32,
   "metadata": {},
   "outputs": [
    {
     "data": {
      "text/html": [
       "<div>\n",
       "<style scoped>\n",
       "    .dataframe tbody tr th:only-of-type {\n",
       "        vertical-align: middle;\n",
       "    }\n",
       "\n",
       "    .dataframe tbody tr th {\n",
       "        vertical-align: top;\n",
       "    }\n",
       "\n",
       "    .dataframe thead th {\n",
       "        text-align: right;\n",
       "    }\n",
       "</style>\n",
       "<table border=\"1\" class=\"dataframe\">\n",
       "  <thead>\n",
       "    <tr style=\"text-align: right;\">\n",
       "      <th></th>\n",
       "      <th>Level</th>\n",
       "      <th>seatcomfort</th>\n",
       "      <th>gatelocation</th>\n",
       "      <th>wifiservice</th>\n",
       "      <th>inflight_ent</th>\n",
       "      <th>legroom</th>\n",
       "      <th>Total</th>\n",
       "    </tr>\n",
       "  </thead>\n",
       "  <tbody>\n",
       "    <tr>\n",
       "      <th>0</th>\n",
       "      <td>3</td>\n",
       "      <td>22.416775</td>\n",
       "      <td>21.484035</td>\n",
       "      <td>16.144038</td>\n",
       "      <td>23.121698</td>\n",
       "      <td>16.833455</td>\n",
       "      <td>100.0</td>\n",
       "    </tr>\n",
       "    <tr>\n",
       "      <th>1</th>\n",
       "      <td>2</td>\n",
       "      <td>25.743541</td>\n",
       "      <td>14.361643</td>\n",
       "      <td>18.782434</td>\n",
       "      <td>22.197422</td>\n",
       "      <td>18.914960</td>\n",
       "      <td>100.0</td>\n",
       "    </tr>\n",
       "    <tr>\n",
       "      <th>2</th>\n",
       "      <td>1</td>\n",
       "      <td>23.792091</td>\n",
       "      <td>18.155870</td>\n",
       "      <td>22.259452</td>\n",
       "      <td>19.287251</td>\n",
       "      <td>16.505336</td>\n",
       "      <td>100.0</td>\n",
       "    </tr>\n",
       "    <tr>\n",
       "      <th>3</th>\n",
       "      <td>4</td>\n",
       "      <td>16.178684</td>\n",
       "      <td>24.713753</td>\n",
       "      <td>18.684572</td>\n",
       "      <td>19.185096</td>\n",
       "      <td>21.237896</td>\n",
       "      <td>100.0</td>\n",
       "    </tr>\n",
       "    <tr>\n",
       "      <th>4</th>\n",
       "      <td>5</td>\n",
       "      <td>0.508548</td>\n",
       "      <td>23.800765</td>\n",
       "      <td>34.393710</td>\n",
       "      <td>5.157614</td>\n",
       "      <td>36.139364</td>\n",
       "      <td>100.0</td>\n",
       "    </tr>\n",
       "    <tr>\n",
       "      <th>5</th>\n",
       "      <td>0</td>\n",
       "      <td>0.811688</td>\n",
       "      <td>NaN</td>\n",
       "      <td>5.925325</td>\n",
       "      <td>82.142857</td>\n",
       "      <td>11.120130</td>\n",
       "      <td>100.0</td>\n",
       "    </tr>\n",
       "  </tbody>\n",
       "</table>\n",
       "</div>"
      ],
      "text/plain": [
       "   Level  seatcomfort  gatelocation  wifiservice  inflight_ent    legroom  \\\n",
       "0      3    22.416775     21.484035    16.144038     23.121698  16.833455   \n",
       "1      2    25.743541     14.361643    18.782434     22.197422  18.914960   \n",
       "2      1    23.792091     18.155870    22.259452     19.287251  16.505336   \n",
       "3      4    16.178684     24.713753    18.684572     19.185096  21.237896   \n",
       "4      5     0.508548     23.800765    34.393710      5.157614  36.139364   \n",
       "5      0     0.811688           NaN     5.925325     82.142857  11.120130   \n",
       "\n",
       "   Total  \n",
       "0  100.0  \n",
       "1  100.0  \n",
       "2  100.0  \n",
       "3  100.0  \n",
       "4  100.0  \n",
       "5  100.0  "
      ]
     },
     "execution_count": 32,
     "metadata": {},
     "output_type": "execute_result"
    }
   ],
   "source": [
    "#make it in percentage view\n",
    "tab_perc2 = tab2.copy()\n",
    "\n",
    "tab_perc2['seatcomfort'] = tab2['seatcomfort']/tab2['Total']*100\n",
    "tab_perc2['gatelocation'] = tab2['gatelocation']/tab2['Total']*100\n",
    "tab_perc2['wifiservice'] = tab2['wifiservice']/tab2['Total']*100\n",
    "tab_perc2['inflight_ent'] = tab2['inflight_ent']/tab2['Total']*100\n",
    "tab_perc2['legroom'] = tab2['legroom']/tab2['Total']*100\n",
    "\n",
    "\n",
    "\n",
    "tab_perc2['Total'] = tab_perc2[['seatcomfort', 'gatelocation', 'wifiservice', 'inflight_ent', 'legroom']].sum(axis = 1)\n",
    "tab_perc2"
   ]
  },
  {
   "cell_type": "code",
   "execution_count": 48,
   "metadata": {},
   "outputs": [
    {
     "data": {
      "text/html": [
       "<div>\n",
       "<style scoped>\n",
       "    .dataframe tbody tr th:only-of-type {\n",
       "        vertical-align: middle;\n",
       "    }\n",
       "\n",
       "    .dataframe tbody tr th {\n",
       "        vertical-align: top;\n",
       "    }\n",
       "\n",
       "    .dataframe thead th {\n",
       "        text-align: right;\n",
       "    }\n",
       "</style>\n",
       "<table border=\"1\" class=\"dataframe\">\n",
       "  <thead>\n",
       "    <tr style=\"text-align: right;\">\n",
       "      <th></th>\n",
       "      <th>Level</th>\n",
       "      <th>seatcomfort</th>\n",
       "      <th>gatelocation</th>\n",
       "      <th>wifiservice</th>\n",
       "      <th>inflight_ent</th>\n",
       "      <th>legroom</th>\n",
       "    </tr>\n",
       "  </thead>\n",
       "  <tbody>\n",
       "    <tr>\n",
       "      <th>5</th>\n",
       "      <td>0</td>\n",
       "      <td>0.811688</td>\n",
       "      <td>NaN</td>\n",
       "      <td>5.925325</td>\n",
       "      <td>82.142857</td>\n",
       "      <td>11.120130</td>\n",
       "    </tr>\n",
       "    <tr>\n",
       "      <th>2</th>\n",
       "      <td>1</td>\n",
       "      <td>23.792091</td>\n",
       "      <td>18.155870</td>\n",
       "      <td>22.259452</td>\n",
       "      <td>19.287251</td>\n",
       "      <td>16.505336</td>\n",
       "    </tr>\n",
       "    <tr>\n",
       "      <th>1</th>\n",
       "      <td>2</td>\n",
       "      <td>25.743541</td>\n",
       "      <td>14.361643</td>\n",
       "      <td>18.782434</td>\n",
       "      <td>22.197422</td>\n",
       "      <td>18.914960</td>\n",
       "    </tr>\n",
       "    <tr>\n",
       "      <th>0</th>\n",
       "      <td>3</td>\n",
       "      <td>22.416775</td>\n",
       "      <td>21.484035</td>\n",
       "      <td>16.144038</td>\n",
       "      <td>23.121698</td>\n",
       "      <td>16.833455</td>\n",
       "    </tr>\n",
       "    <tr>\n",
       "      <th>3</th>\n",
       "      <td>4</td>\n",
       "      <td>16.178684</td>\n",
       "      <td>24.713753</td>\n",
       "      <td>18.684572</td>\n",
       "      <td>19.185096</td>\n",
       "      <td>21.237896</td>\n",
       "    </tr>\n",
       "    <tr>\n",
       "      <th>4</th>\n",
       "      <td>5</td>\n",
       "      <td>0.508548</td>\n",
       "      <td>23.800765</td>\n",
       "      <td>34.393710</td>\n",
       "      <td>5.157614</td>\n",
       "      <td>36.139364</td>\n",
       "    </tr>\n",
       "  </tbody>\n",
       "</table>\n",
       "</div>"
      ],
      "text/plain": [
       "   Level  seatcomfort  gatelocation  wifiservice  inflight_ent    legroom\n",
       "5      0     0.811688           NaN     5.925325     82.142857  11.120130\n",
       "2      1    23.792091     18.155870    22.259452     19.287251  16.505336\n",
       "1      2    25.743541     14.361643    18.782434     22.197422  18.914960\n",
       "0      3    22.416775     21.484035    16.144038     23.121698  16.833455\n",
       "3      4    16.178684     24.713753    18.684572     19.185096  21.237896\n",
       "4      5     0.508548     23.800765    34.393710      5.157614  36.139364"
      ]
     },
     "execution_count": 48,
     "metadata": {},
     "output_type": "execute_result"
    }
   ],
   "source": [
    "facilities = tab_perc2.iloc[:, :-1].sort_values(by=['Level'])\n",
    "facilities"
   ]
  },
  {
   "cell_type": "code",
   "execution_count": 49,
   "metadata": {},
   "outputs": [
    {
     "data": {
      "image/png": "[encoded data removed]",
      "text/plain": [
       "<Figure size 720x720 with 1 Axes>"
      ]
     },
     "metadata": {
      "needs_background": "light"
     },
     "output_type": "display_data"
    }
   ],
   "source": [
    "#Make a barstack percentage plot\n",
    "\n",
    "facilities.plot(x = 'Level',  \n",
    "    kind = 'bar', \n",
    "    stacked = True, \n",
    "    title = 'Airline Facilities',\n",
    "    mark_right = True,\n",
    "    figsize=(10,10),\n",
    "    colormap = 'crest')\n",
    "\n",
    "plt.xlabel('Satisfaction Level')\n",
    "plt.ylabel('Percentage (%)')\n",
    "\n",
    "\n",
    "plt.show()"
   ]
  },
  {
   "cell_type": "markdown",
   "metadata": {},
   "source": [
    "From the visualization we can see that the worst aspect are Seat Comfort.\n",
    "<br> There may be a problem with these services because the total of level 1 and level 2 is quite far from the others.\n",
    "<br> This aspect should be considered and improved."
   ]
  }
 ],
 "metadata": {
  "kernelspec": {
   "display_name": "Python 3",
   "language": "python",
   "name": "python3"
  },
  "language_info": {
   "codemirror_mode": {
    "name": "ipython",
    "version": 3
   },
   "file_extension": ".py",
   "mimetype": "text/x-python",
   "name": "python",
   "nbconvert_exporter": "python",
   "pygments_lexer": "ipython3",
   "version": "3.8.5"
  }
 },
 "nbformat": 4,
 "nbformat_minor": 4
}
